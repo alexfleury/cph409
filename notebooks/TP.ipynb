{
 "cells": [
  {
   "cell_type": "markdown",
   "id": "8f657692",
   "metadata": {},
   "source": [
    "[![Open In Colab](https://colab.research.google.com/assets/colab-badge.svg)](https://colab.research.google.com/github/alexfleury/cph409/blob/main/notebooks/TP.ipynb)"
   ]
  },
  {
   "cell_type": "markdown",
   "id": "329f2943",
   "metadata": {},
   "source": [
    "# Travail pratique\n",
    "\n",
    "## Rappel des tâches\n",
    "\n",
    "Nous appliquerons, lors de ce travail pratique, différents modèles sur les électrons $\\pi$ de l'anion du cyclopentadiène. Nous comparerons les modèles de la particule confinée dans un cercle, le modèle de Hückel et les calculs numériques du package [PySCF](https://pyscf.org/). Ce notebook porte sur les calculs nécessaires avec PySCF.\n",
    "\n",
    "![Anion du cyclopentadiène](Figs/clyclopentadiene_anion.png \"Anion du cyclopentadiène\")\n",
    "\n",
    "Pour ce faire, vous aurez accès à une approximation de la fonction d'onde électronique de cette molécule caculée à l'aide des méthodes Hartree-Fock et DFT.\n",
    "\n",
    "## Installation et importation des fonctions de PySCF"
   ]
  },
  {
   "cell_type": "code",
   "execution_count": null,
   "id": "af8f6feb",
   "metadata": {},
   "outputs": [],
   "source": [
    "try:\n",
    "    import pyscf\n",
    "except ImportError:\n",
    "    !pip install pyscf\n",
    "\n",
    "from pyscf import gto, scf, tools"
   ]
  },
  {
   "cell_type": "markdown",
   "id": "d390e5ef",
   "metadata": {},
   "source": [
    "## Calculs"
   ]
  },
  {
   "cell_type": "code",
   "execution_count": null,
   "id": "027dc002",
   "metadata": {},
   "outputs": [],
   "source": [
    "xyz = \"\"\"\n",
    "C  1.147238   -0.372792    0.000002\n",
    "H  2.181909   -0.709040    0.000004\n",
    "C  0.709028    0.975859    0.000001\n",
    "H  1.348396    1.856066    0.000001\n",
    "C -1.147227   -0.372827    0.000004\n",
    "H -2.181888   -0.709107    0.000008\n",
    "C -0.709058    0.975838   -0.000003\n",
    "H -1.348454    1.856025   -0.000004\n",
    "C  0.000018   -1.206322   -0.000004\n",
    "H  0.000036   -2.294237   -0.000008\n",
    "\"\"\"\n",
    "\n",
    "mol = gto.Mole(\n",
    "    atom = xyz,\n",
    "    charge=-1,      # Nous avons affaire à un anion!\n",
    "    spin=0,         # Tous les électrons sont couplés.\n",
    "    basis = \"sto3g\" # Ici pour changer l'ensemble de base.\n",
    ")\n",
    "mol.build()\n",
    "hf = scf.RHF(mol)\n",
    "hf.kernel()"
   ]
  },
  {
   "cell_type": "markdown",
   "id": "f5dffa91",
   "metadata": {},
   "source": [
    "## Analyse"
   ]
  },
  {
   "cell_type": "code",
   "execution_count": null,
   "id": "7e5b4e2a",
   "metadata": {},
   "outputs": [],
   "source": [
    "# Exécutez cette cellule seulement si nécessaire.\n",
    "hf.analyze();"
   ]
  },
  {
   "cell_type": "markdown",
   "id": "7d8cd86d",
   "metadata": {},
   "source": [
    "## Orbitales"
   ]
  },
  {
   "cell_type": "code",
   "execution_count": null,
   "id": "cf5e2151",
   "metadata": {},
   "outputs": [],
   "source": [
    "# Exécutez cette cellule seulement si nécessaire.\n",
    "tools.dump_mat.dump_mo(mol, hf.mo_coeff)"
   ]
  }
 ],
 "metadata": {
  "kernelspec": {
   "display_name": "quantum",
   "language": "python",
   "name": "quantum"
  },
  "language_info": {
   "codemirror_mode": {
    "name": "ipython",
    "version": 3
   },
   "file_extension": ".py",
   "mimetype": "text/x-python",
   "name": "python",
   "nbconvert_exporter": "python",
   "pygments_lexer": "ipython3",
   "version": "3.8.5"
  }
 },
 "nbformat": 4,
 "nbformat_minor": 5
}
