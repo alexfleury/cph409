{
 "cells": [
  {
   "cell_type": "code",
   "execution_count": null,
   "id": "ee092818",
   "metadata": {},
   "outputs": [],
   "source": [
    "import matplotlib\n",
    "%matplotlib inline\n",
    "import matplotlib.pyplot as plt\n",
    "\n",
    "from sympy import *\n",
    "from sympy.plotting import plot\n",
    "init_session()"
   ]
  },
  {
   "cell_type": "markdown",
   "id": "a49e236d",
   "metadata": {},
   "source": [
    "## Définition de la longueur de la boîte et de constantes"
   ]
  },
  {
   "cell_type": "code",
   "execution_count": null,
   "id": "f8a20027",
   "metadata": {},
   "outputs": [],
   "source": [
    "a = 1e-9 # 1 nm\n",
    "hbar = 1.05457182e-34 # Js\n",
    "h = 6.62607015e-34 # Js\n",
    "me = 9.109383e-31 # kg"
   ]
  },
  {
   "cell_type": "markdown",
   "id": "2b910b75",
   "metadata": {},
   "source": [
    "## Fonction d'onde d'essai\n",
    "\n",
    "$$\n",
    "\\phi = x(a-x) + x^2(a-x)^2\n",
    "$$"
   ]
  },
  {
   "cell_type": "code",
   "execution_count": null,
   "id": "4c04c2a2",
   "metadata": {},
   "outputs": [],
   "source": [
    "x = Symbol(\"x\")\n",
    "phi = x*(a-x) + x**2*(a-x)**2"
   ]
  },
  {
   "cell_type": "markdown",
   "id": "e947cd3f",
   "metadata": {},
   "source": [
    "$$\n",
    "\\begin{align*}\n",
    "1 &= \\int_0^a N^2 \\phi^* \\phi dx \\\\\n",
    "&= \\int_0^a N^2 (x(a-x) + x^2(a-x)^2)^2 dx\n",
    "\\end{align*}\n",
    "$$"
   ]
  },
  {
   "cell_type": "code",
   "execution_count": null,
   "id": "69348f19",
   "metadata": {},
   "outputs": [],
   "source": [
    "norm = simplify(integrate(phi**2, (x, 0, a)))\n",
    "N = sqrt(1/norm)\n",
    "phi = N*phi"
   ]
  },
  {
   "cell_type": "markdown",
   "id": "b80fcce1",
   "metadata": {},
   "source": [
    "Vérifions que la normalisation a fonctionné (l'intégral devrait donner 1):"
   ]
  },
  {
   "cell_type": "code",
   "execution_count": null,
   "id": "1c669c5b",
   "metadata": {},
   "outputs": [],
   "source": [
    "simplify(integrate(phi**2, (x, 0, a)))"
   ]
  },
  {
   "cell_type": "markdown",
   "id": "3b9aa4d4",
   "metadata": {},
   "source": [
    "### Comparaison avec la vraie solution pour n=1\n",
    "\n",
    "$$\n",
    "\\psi = \\sqrt{\\frac{2}{a}} \\sin{\\left( \\frac{\\pi}{a}x \\right)}\n",
    "$$"
   ]
  },
  {
   "cell_type": "code",
   "execution_count": null,
   "id": "e61e0f61",
   "metadata": {},
   "outputs": [],
   "source": [
    "psi = sqrt(2/a) * sin(1*pi*x/a)"
   ]
  },
  {
   "cell_type": "code",
   "execution_count": null,
   "id": "7b7c0a9f",
   "metadata": {},
   "outputs": [],
   "source": [
    "graph_psi = plot(psi, (x, 0, 1e-9), show=False, label=\"Psi\", legend=True)\n",
    "graph_phi = plot(phi, (x, 0, 1e-9), show=False, label=\"Phi\")\n",
    "graph_psi.append(graph_phi[0])\n",
    "graph_psi.show()"
   ]
  },
  {
   "cell_type": "markdown",
   "id": "ec054608",
   "metadata": {},
   "source": [
    "## Calcul de l'énergie pour la fonction d'essai\n",
    "\n",
    "$$\n",
    "\\begin{align*}\n",
    "E &= \\frac{\\int_0^a \\phi^* \\hat{H} \\phi dx}{\\int_0^a \\phi^* \\phi dx} \\\\\n",
    "&= \\int_0^a \\phi^* \\hat{H} \\phi dx\n",
    "\\end{align*}\n",
    "$$\n",
    "\n",
    "En premier, nous faisons $\\hat{H} \\phi$"
   ]
  },
  {
   "cell_type": "code",
   "execution_count": null,
   "id": "9ae76bfc",
   "metadata": {},
   "outputs": [],
   "source": [
    "h_phi = -hbar**2 / (2*me) * diff(phi, x, x)"
   ]
  },
  {
   "cell_type": "code",
   "execution_count": null,
   "id": "f5cc79ee",
   "metadata": {},
   "outputs": [],
   "source": [
    "E = simplify(integrate(phi*h_phi, (x, 0, a)))"
   ]
  },
  {
   "cell_type": "code",
   "execution_count": null,
   "id": "99c12cf2",
   "metadata": {},
   "outputs": [],
   "source": [
    "E_vraie = h**2 / (8*me*a**2)\n",
    "print(f\"Vraie énergie pour la particule dans une boîte 1D: {E_vraie} J\")\n",
    "print(f\"Approximation: {E} J\")\n",
    "print(f\"Différence {E_vraie-E} J\")"
   ]
  }
 ],
 "metadata": {
  "kernelspec": {
   "display_name": "quantum",
   "language": "python",
   "name": "quantum"
  },
  "language_info": {
   "codemirror_mode": {
    "name": "ipython",
    "version": 3
   },
   "file_extension": ".py",
   "mimetype": "text/x-python",
   "name": "python",
   "nbconvert_exporter": "python",
   "pygments_lexer": "ipython3",
   "version": "3.8.5"
  }
 },
 "nbformat": 4,
 "nbformat_minor": 5
}
