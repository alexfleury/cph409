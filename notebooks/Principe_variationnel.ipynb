{
 "cells": [
  {
   "cell_type": "code",
   "execution_count": null,
   "id": "a2fbe0a6",
   "metadata": {},
   "outputs": [],
   "source": [
    "try:\n",
    "    import matplotlib\n",
    "except ImportError:\n",
    "    !pip install matplotlib\n",
    "\n",
    "try:\n",
    "    import sympy\n",
    "except ImportError:\n",
    "    !pip install sympy"
   ]
  },
  {
   "cell_type": "markdown",
   "id": "53ca57c8",
   "metadata": {},
   "source": [
    "# Principe variationnel\n",
    "## Application à une particule dans une boîte unidimensionnelle"
   ]
  },
  {
   "cell_type": "code",
   "execution_count": 1,
   "id": "ee092818",
   "metadata": {},
   "outputs": [
    {
     "name": "stdout",
     "output_type": "stream",
     "text": [
      "IPython console for SymPy 1.9 (Python 3.8.5-64-bit) (ground types: python)\n",
      "\n",
      "These commands were executed:\n",
      ">>> from __future__ import division\n",
      ">>> from sympy import *\n",
      ">>> x, y, z, t = symbols('x y z t')\n",
      ">>> k, m, n = symbols('k m n', integer=True)\n",
      ">>> f, g, h = symbols('f g h', cls=Function)\n",
      ">>> init_printing()\n",
      "\n",
      "Documentation can be found at https://docs.sympy.org/1.9/\n",
      "\n"
     ]
    }
   ],
   "source": [
    "import matplotlib\n",
    "%matplotlib inline\n",
    "import matplotlib.pyplot as plt\n",
    "\n",
    "from sympy import *\n",
    "from sympy.solvers import solve\n",
    "from sympy.plotting import plot\n",
    "init_session()"
   ]
  },
  {
   "cell_type": "markdown",
   "id": "a49e236d",
   "metadata": {},
   "source": [
    "## Définition ddes variables et constantes"
   ]
  },
  {
   "cell_type": "code",
   "execution_count": 2,
   "id": "f8a20027",
   "metadata": {},
   "outputs": [],
   "source": [
    "#a = 1e-9                # 1 nm\n",
    "hbar = 1.05457182e-34   # J s\n",
    "h = 6.62607015e-34      # J s\n",
    "me = 9.109383e-31       # kg\n",
    "\n",
    "x = Symbol(\"x\")\n",
    "a = Symbol(\"a\")\n",
    "\n",
    "alpha = Symbol(\"alpha\")"
   ]
  },
  {
   "cell_type": "markdown",
   "id": "3b9aa4d4",
   "metadata": {},
   "source": [
    "## Solution analytique pour n=1\n",
    "\n",
    "$$\n",
    "\\psi = \\sqrt{\\frac{2}{a}} \\sin{\\left( \\frac{\\pi}{a}x \\right)}\n",
    "$$"
   ]
  },
  {
   "cell_type": "code",
   "execution_count": 3,
   "id": "e61e0f61",
   "metadata": {},
   "outputs": [],
   "source": [
    "psi = sqrt(2/a) * sin(1*pi*x/a)\n",
    "E_vraie = h**2 / (8*me*a**2)"
   ]
  },
  {
   "cell_type": "markdown",
   "id": "2b910b75",
   "metadata": {},
   "source": [
    "## Fonctions d'onde d'essai\n",
    "\n",
    "\n",
    "$$\n",
    "\\phi = \\left( \\frac{x}{a} - \\frac{x^3}{a^3} \\right) + \\alpha \\left( \\frac{x^5}{a^5} - \\frac{1}{2}\\left( \\frac{x^7}{a^7} + \\frac{x^9}{a^9} \\right) \\right)\n",
    "$$"
   ]
  },
  {
   "cell_type": "code",
   "execution_count": 4,
   "id": "4c04c2a2",
   "metadata": {},
   "outputs": [
    {
     "name": "stdout",
     "output_type": "stream",
     "text": [
      "alpha*(x**5/a**5 - 0.5*x**7/a**7 - 0.5*x**9/a**9) + x/a - x**3/a**3\n"
     ]
    }
   ],
   "source": [
    "phi = (x/a - x**3/a**3) + alpha*(x**5/a**5 -0.5*(x**7/a**7 + x**9/a**9))\n",
    "print(phi)"
   ]
  },
  {
   "cell_type": "markdown",
   "id": "e947cd3f",
   "metadata": {},
   "source": [
    "### Cas pour $\\alpha = 0$\n",
    "\n",
    "#### Normalisation\n",
    "\n",
    "$$\n",
    "\\begin{align*}\n",
    "1 &= \\int_0^a N^2 \\phi^* \\phi dx \\\\\n",
    "&= \\int_0^a N^2 (x(a-x) + x^2(a-x)^2)^2 dx\n",
    "\\end{align*}\n",
    "$$"
   ]
  },
  {
   "cell_type": "code",
   "execution_count": 5,
   "id": "69348f19",
   "metadata": {},
   "outputs": [],
   "source": [
    "phi_alpha_0 = phi.subs(alpha, 0)\n",
    "norm = simplify(integrate(phi_alpha_0**2, (x, 0, a)))\n",
    "N = sqrt(1/norm)\n",
    "phi_alpha_0 = N * phi_alpha_0"
   ]
  },
  {
   "cell_type": "markdown",
   "id": "b80fcce1",
   "metadata": {},
   "source": [
    "Vérifions que la normalisation a fonctionné (l'intégral devrait donner 1):"
   ]
  },
  {
   "cell_type": "code",
   "execution_count": 6,
   "id": "1c669c5b",
   "metadata": {},
   "outputs": [
    {
     "name": "stderr",
     "output_type": "stream",
     "text": [
      "findfont: Font family ['serif'] not found. Falling back to DejaVu Sans.\n",
      "findfont: Generic family 'serif' not found because none of the following families were found: [Times, Palatino, Computer Modern Roman]\n"
     ]
    },
    {
     "data": {
      "image/png": "[encoded data removed]",
      "text/latex": [
       "$\\displaystyle 1$"
      ],
      "text/plain": [
       "1"
      ]
     },
     "execution_count": 6,
     "metadata": {},
     "output_type": "execute_result"
    }
   ],
   "source": [
    "simplify(integrate(phi_alpha_0**2, (x, 0, a)))"
   ]
  },
  {
   "cell_type": "markdown",
   "id": "ec054608",
   "metadata": {},
   "source": [
    "#### Calcul de l'énergie\n",
    "\n",
    "\\begin{align*}\n",
    "E &= \\frac{\\int_0^a \\phi^* \\hat{H} \\phi dx}{\\int_0^a \\phi^* \\phi dx} \\\\\n",
    "&= \\int_0^a \\phi^* \\hat{H} \\phi dx\n",
    "\\end{align*}\n",
    "\n",
    "En premier, nous faisons $\\hat{H} \\phi$"
   ]
  },
  {
   "cell_type": "code",
   "execution_count": 7,
   "id": "9ae76bfc",
   "metadata": {},
   "outputs": [],
   "source": [
    "h_phi_alpha_0 = -hbar**2 / (2*me) * diff(phi_alpha_0, x, x)"
   ]
  },
  {
   "cell_type": "markdown",
   "id": "a3db5ecd",
   "metadata": {},
   "source": [
    "Puis $\\int_0^a \\phi^* \\hat{H} \\phi dx$"
   ]
  },
  {
   "cell_type": "code",
   "execution_count": 8,
   "id": "f5cc79ee",
   "metadata": {},
   "outputs": [],
   "source": [
    "E = simplify(integrate(phi_alpha_0*h_phi_alpha_0, (x, 0, a)))"
   ]
  },
  {
   "cell_type": "code",
   "execution_count": 9,
   "id": "99c12cf2",
   "metadata": {},
   "outputs": [
    {
     "name": "stdout",
     "output_type": "stream",
     "text": [
      "Vraie énergie pour la particule dans une boîte 1D: 0.125000000000000 h^2/(m a^2)\n",
      "Approximation: 0.132984054124219 h^2/(m a^2)\n"
     ]
    }
   ],
   "source": [
    "print(f\"Vraie énergie pour la particule dans une boîte 1D: {E_vraie*me*a**2/h**2} h^2/(m a^2)\")\n",
    "print(f\"Approximation: {E*me*a**2/h**2} h^2/(m a^2)\")"
   ]
  },
  {
   "cell_type": "markdown",
   "id": "b7e02808",
   "metadata": {},
   "source": [
    "### Cas pour $\\alpha \\neq 0$\n",
    "\n",
    "#### Calcul de l'énergie minimale\n",
    "\n",
    "$$\n",
    "\\begin{align*}\n",
    "\\frac{dE}{d\\alpha} &= 0 \\\\\n",
    "0 &= \\frac{d}{d\\alpha} \\frac{\\int_0^a \\phi^* \\hat{H} \\phi dx}{\\int_0^a \\phi^* \\phi dx}\n",
    "\\end{align*}\n",
    "$$"
   ]
  },
  {
   "cell_type": "code",
   "execution_count": 10,
   "id": "a3361e09",
   "metadata": {},
   "outputs": [],
   "source": [
    "h_phi = -hbar**2 / (2*me) * diff(phi, x, x)"
   ]
  },
  {
   "cell_type": "code",
   "execution_count": 11,
   "id": "15fc1c5e",
   "metadata": {},
   "outputs": [],
   "source": [
    "numerateur = simplify(integrate(phi*h_phi, (x, 0, a)))"
   ]
  },
  {
   "cell_type": "code",
   "execution_count": 12,
   "id": "693b9159",
   "metadata": {},
   "outputs": [],
   "source": [
    "denominateur = simplify(integrate(phi*phi, (x, 0, a)))"
   ]
  },
  {
   "cell_type": "code",
   "execution_count": 13,
   "id": "8c427f85",
   "metadata": {},
   "outputs": [
    {
     "name": "stdout",
     "output_type": "stream",
     "text": [
      "(2.24579136342743e-39*alpha**2 + 3.06534510431082e-39*alpha + 4.8834118558331e-39)/(a**2*(0.00655567342873843*alpha**2 + 0.0293040293040293*alpha + 0.0761904761904761))\n"
     ]
    }
   ],
   "source": [
    "E = simplify(numerateur / denominateur)\n",
    "print(E)\n",
    "diff_E = diff(E, alpha)"
   ]
  },
  {
   "cell_type": "code",
   "execution_count": 14,
   "id": "83b19d69",
   "metadata": {},
   "outputs": [
    {
     "data": {
      "image/png": "[encoded data removed]",
      "text/latex": [
       "$\\displaystyle \\left[ -5.74056963343589, \\  -0.344647139378355, \\  2.67172532029149 \\cdot 10^{15}\\right]$"
      ],
      "text/plain": [
       "[-5.74056963343589, -0.344647139378355, 2.67172532029149e+15]"
      ]
     },
     "execution_count": 14,
     "metadata": {},
     "output_type": "execute_result"
    }
   ],
   "source": [
    "solve(diff_E, alpha, minimal=True)"
   ]
  },
  {
   "cell_type": "code",
   "execution_count": 15,
   "id": "dd956150",
   "metadata": {},
   "outputs": [
    {
     "name": "stdout",
     "output_type": "stream",
     "text": [
      "Vraie énergie pour la particule dans une boîte 1D: 0.125000000000000 h^2/(m a^2)\n",
      "Approximation: 0.127017909094237 h^2/(m a^2)\n"
     ]
    }
   ],
   "source": [
    "E_min = E.subs(alpha,-0.345)\n",
    "print(f\"Vraie énergie pour la particule dans une boîte 1D: {E_vraie*me*a**2/h**2} h^2/(m a^2)\")\n",
    "print(f\"Approximation: {E_min*me*a**2/h**2} h^2/(m a^2)\")"
   ]
  }
 ],
 "metadata": {
  "kernelspec": {
   "display_name": "quantum",
   "language": "python",
   "name": "quantum"
  },
  "language_info": {
   "codemirror_mode": {
    "name": "ipython",
    "version": 3
   },
   "file_extension": ".py",
   "mimetype": "text/x-python",
   "name": "python",
   "nbconvert_exporter": "python",
   "pygments_lexer": "ipython3",
   "version": "3.8.5"
  }
 },
 "nbformat": 4,
 "nbformat_minor": 5
}
