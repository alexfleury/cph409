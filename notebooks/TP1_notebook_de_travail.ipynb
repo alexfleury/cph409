{
 "cells": [
  {
   "cell_type": "code",
   "execution_count": 2,
   "id": "027dc002",
   "metadata": {},
   "outputs": [
    {
     "name": "stdout",
     "output_type": "stream",
     "text": [
      "converged SCF energy = -189.727682162863\n"
     ]
    },
    {
     "data": {
      "text/plain": [
       "-189.72768216286278"
      ]
     },
     "execution_count": 2,
     "metadata": {},
     "output_type": "execute_result"
    }
   ],
   "source": [
    "from pyscf import gto, scf, lo, tools\n",
    "\n",
    "xyz = \"\"\"\n",
    "C  1.147238   -0.372792    0.000002\n",
    "H  2.181909   -0.709040    0.000004\n",
    "C  0.709028    0.975859    0.000001\n",
    "H  1.348396    1.856066    0.000001\n",
    "C -1.147227   -0.372827    0.000004\n",
    "H -2.181888   -0.709107    0.000008\n",
    "C -0.709058    0.975838   -0.000003\n",
    "H -1.348454    1.856025   -0.000004\n",
    "C  0.000018   -1.206322   -0.000004\n",
    "H  0.000036   -2.294237   -0.000008\n",
    "\"\"\"\n",
    "\n",
    "mol = gto.Mole(\n",
    "    atom = xyz,\n",
    "    charge=-1,\n",
    "    spin=0,\n",
    "    basis = \"sto3g\" # Ici pour changer l'ensemble de base.\n",
    ")\n",
    "mol.build()\n",
    "hf = scf.RHF(mol)\n",
    "hf.kernel()"
   ]
  },
  {
   "cell_type": "code",
   "execution_count": 3,
   "id": "7e5b4e2a",
   "metadata": {},
   "outputs": [
    {
     "name": "stdout",
     "output_type": "stream",
     "text": [
      "**** MO energy ****\n",
      "MO #1   energy= -10.6941113433832  occ= 2\n",
      "MO #2   energy= -10.6941062053008  occ= 2\n",
      "MO #3   energy= -10.6940239909481  occ= 2\n",
      "MO #4   energy= -10.6937671955309  occ= 2\n",
      "MO #5   energy= -10.6937662383705  occ= 2\n",
      "MO #6   energy= -0.793560774058706 occ= 2\n",
      "MO #7   energy= -0.609062031213772 occ= 2\n",
      "MO #8   energy= -0.609058591517536 occ= 2\n",
      "MO #9   energy= -0.416246118766076 occ= 2\n",
      "MO #10  energy= -0.416240000027858 occ= 2\n",
      "MO #11  energy= -0.37908394934322  occ= 2\n",
      "MO #12  energy= -0.209928380927485 occ= 2\n",
      "MO #13  energy= -0.209921279146818 occ= 2\n",
      "MO #14  energy= -0.179939399700334 occ= 2\n",
      "MO #15  energy= -0.179933701208931 occ= 2\n",
      "MO #16  energy= -0.177337151658417 occ= 2\n",
      "MO #17  energy= 0.0539521806862051 occ= 2\n",
      "MO #18  energy= 0.0539593162734228 occ= 2\n",
      "MO #19  energy= 0.65422670078698   occ= 0\n",
      "MO #20  energy= 0.654235469102286  occ= 0\n",
      "MO #21  energy= 0.851808271366115  occ= 0\n",
      "MO #22  energy= 0.956084479526252  occ= 0\n",
      "MO #23  energy= 0.956088592033564  occ= 0\n",
      "MO #24  energy= 0.979796605038867  occ= 0\n",
      "MO #25  energy= 0.979851232201949  occ= 0\n",
      "MO #26  energy= 1.06464765536616   occ= 0\n",
      "MO #27  energy= 1.0646666967592    occ= 0\n",
      "MO #28  energy= 1.255530816526     occ= 0\n",
      "MO #29  energy= 1.39096561959446   occ= 0\n",
      "MO #30  energy= 1.39097613494202   occ= 0\n",
      " ** Mulliken atomic charges  **\n",
      "charge of  0C =     -0.16163\n",
      "charge of  1H =     -0.03837\n",
      "charge of  2C =     -0.16164\n",
      "charge of  3H =     -0.03836\n",
      "charge of  4C =     -0.16163\n",
      "charge of  5H =     -0.03837\n",
      "charge of  6C =     -0.16164\n",
      "charge of  7H =     -0.03836\n",
      "charge of  8C =     -0.16165\n",
      "charge of  9H =     -0.03836\n",
      "Dipole moment(X, Y, Z, Debye):  0.00000,  0.00022,  0.00000\n"
     ]
    }
   ],
   "source": [
    "hf.analyze();"
   ]
  }
 ],
 "metadata": {
  "kernelspec": {
   "display_name": "quantum",
   "language": "python",
   "name": "quantum"
  },
  "language_info": {
   "codemirror_mode": {
    "name": "ipython",
    "version": 3
   },
   "file_extension": ".py",
   "mimetype": "text/x-python",
   "name": "python",
   "nbconvert_exporter": "python",
   "pygments_lexer": "ipython3",
   "version": "3.8.5"
  }
 },
 "nbformat": 4,
 "nbformat_minor": 5
}
