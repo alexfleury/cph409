{
 "cells": [
  {
   "cell_type": "markdown",
   "id": "45c7f1e3",
   "metadata": {},
   "source": [
    "# Travail pratique CPH409\n",
    "\n",
    "## Importation des fonctions\n",
    "\n",
    "La première étape est d'importer les fonctions nécessaires à nos calculs. L'utilisation de [PySCF](https://pyscf.org/) s'avère utile pour traiter des molécules au niveau de la chimie quantique.\n",
    "\n",
    "Du module `pyscf`, nous importons\n",
    "* `gto`: Pour définir une molécule sur un ensemble de base gaussien (*Gaussian type orbitals*);\n",
    "* `scf`: *Self-consistent field* pour Hartree-Fock;\n",
    "* `tools`: Divers outils, nous l'utiliserons pour créer des fichiers `.cube` pour visualiser des orbitales moléculaires."
   ]
  },
  {
   "cell_type": "code",
   "execution_count": 1,
   "id": "a2204a1a",
   "metadata": {},
   "outputs": [],
   "source": [
    "from pyscf import gto, scf, tools"
   ]
  },
  {
   "cell_type": "markdown",
   "id": "c8979cd9",
   "metadata": {},
   "source": [
    "## Définition de la molécule\n",
    "\n",
    "La première étape est de définir la molécule. La variable `xyz` contient les coordonnées (x, y et z) de chaque atome. Nous créons ensuite une molécule avec la fonction `gto.Mole`, qui accepte les coordonnées des atomes, la charge totale, le spin (différence entre le nombre d'électrons alpha et beta) et l'ensemble de base. La commande `mol.build` construit les quantités nécessaires pour les calculs subséquents.\n",
    "\n",
    "La cellule suivante contruit un objet python pour la molécule du dihydrogène (neutre, singlet, ensemble de base minimal STO-3G)."
   ]
  },
  {
   "cell_type": "code",
   "execution_count": 2,
   "id": "0164b709",
   "metadata": {},
   "outputs": [
    {
     "data": {
      "text/plain": [
       "<pyscf.gto.mole.Mole at 0x7fb30f35a760>"
      ]
     },
     "execution_count": 2,
     "metadata": {},
     "output_type": "execute_result"
    }
   ],
   "source": [
    "xyz = \"\"\"\n",
    "H  0.000000    0.000000    0.000000\n",
    "H  0.000000    0.000000    0.750000\n",
    "\"\"\"\n",
    "\n",
    "mol = gto.Mole(\n",
    "    atom = xyz,\n",
    "    charge=0,\n",
    "    spin=0,\n",
    "    basis = \"sto3g\"\n",
    ")\n",
    "mol.build()"
   ]
  },
  {
   "cell_type": "markdown",
   "id": "783a1851",
   "metadata": {},
   "source": [
    "Notons que nous utilisons ici un ensemble de base dit *minimal*. \n",
    "\n",
    "5 atomes de carbone: 5 * (1s + 2s + 2px + 2py + 2pz) = 25 orbitals atomiques\n",
    "\n",
    "5 atomes d'hydrogène: 5 * (1s) = 5 orbitals atomiques\n",
    "\n",
    "30 orbitals atomiques = 30 orbitals moléculaires"
   ]
  },
  {
   "cell_type": "markdown",
   "id": "8aa55309",
   "metadata": {},
   "source": [
    "## Calcul en Hartree-Fock\n",
    "\n",
    "L'appel au module `scf.RHF` rend accessible la fonction d'onde approximée avec la méthode Hartree-Fock, ou plus précisément la solution *restricted Hartree-Fock*. Le mot *restricted* fait référence à la méthode qui force les électrons à être pairés (2 électrons par orbitale moléculaire). D'autres méthodes peuvent être qualifiées de `unrestricted`, où cette contrainte n'est pas imposée. C'est à la ligne `hf.kernel()` où le calcul se produit et que le résultat est affiché."
   ]
  },
  {
   "cell_type": "code",
   "execution_count": 3,
   "id": "6e6107dc",
   "metadata": {
    "scrolled": true
   },
   "outputs": [
    {
     "name": "stdout",
     "output_type": "stream",
     "text": [
      "converged SCF energy = -1.1161514489386\n"
     ]
    },
    {
     "data": {
      "text/plain": [
       "-1.1161514489386022"
      ]
     },
     "execution_count": 3,
     "metadata": {},
     "output_type": "execute_result"
    }
   ],
   "source": [
    "hf = scf.RHF(mol)\n",
    "hf.kernel()"
   ]
  },
  {
   "cell_type": "markdown",
   "id": "f0de913e",
   "metadata": {},
   "source": [
    "Le résultat de `-1.11615` est l'énergie de la molécule en hartree (~627.5 kcal/mol). L'appel à la fonction `analyze` imprime diverses quantités utiles:\n",
    "* Les orbitals moléculaires (énergie et nombre d'électrons);\n",
    "* Les charges sur chaque atome;\n",
    "* Le moment dipolaire de la molécule."
   ]
  },
  {
   "cell_type": "code",
   "execution_count": 4,
   "id": "80f82a45",
   "metadata": {
    "scrolled": true
   },
   "outputs": [
    {
     "name": "stdout",
     "output_type": "stream",
     "text": [
      "**** MO energy ****\n",
      "MO #1   energy= -0.574436558274987 occ= 2\n",
      "MO #2   energy= 0.660910051285004  occ= 0\n",
      " ** Mulliken atomic charges  **\n",
      "charge of  0H =     -0.00000\n",
      "charge of  1H =      0.00000\n",
      "Dipole moment(X, Y, Z, Debye):  0.00000,  0.00000,  0.00000\n"
     ]
    }
   ],
   "source": [
    "hf.analyze();"
   ]
  },
  {
   "cell_type": "markdown",
   "id": "08897a69",
   "metadata": {},
   "source": [
    "## Calcul avec la théorie de la fonctionelle de la densité"
   ]
  },
  {
   "cell_type": "code",
   "execution_count": 5,
   "id": "387467b6",
   "metadata": {},
   "outputs": [
    {
     "name": "stdout",
     "output_type": "stream",
     "text": [
      "converged SCF energy = -1.15833926707312\n"
     ]
    },
    {
     "data": {
      "text/plain": [
       "-1.1583392670731207"
      ]
     },
     "execution_count": 5,
     "metadata": {},
     "output_type": "execute_result"
    }
   ],
   "source": [
    "dft = mol.KS()\n",
    "dft.xc = \"b3lyp\"\n",
    "dft.kernel()"
   ]
  },
  {
   "cell_type": "code",
   "execution_count": 6,
   "id": "e43fa562",
   "metadata": {},
   "outputs": [
    {
     "name": "stdout",
     "output_type": "stream",
     "text": [
      "**** MO energy ****\n",
      "MO #1   energy= -0.407613047459251 occ= 2\n",
      "MO #2   energy= 0.421762399249165  occ= 0\n",
      " ** Mulliken atomic charges  **\n",
      "charge of  0H =      0.00000\n",
      "charge of  1H =      0.00000\n",
      "Dipole moment(X, Y, Z, Debye):  0.00000,  0.00000,  0.00000\n"
     ]
    }
   ],
   "source": [
    "dft.analyze();"
   ]
  },
  {
   "cell_type": "markdown",
   "id": "c9bf2aee",
   "metadata": {},
   "source": [
    "## Analyze/visualisation des orbitales moléculaires\n",
    "\n",
    "blabla orbital HF sont un peu mieux que DFT etc."
   ]
  },
  {
   "cell_type": "code",
   "execution_count": 32,
   "id": "83581130",
   "metadata": {},
   "outputs": [
    {
     "name": "stdout",
     "output_type": "stream",
     "text": [
      "               #0        #1       \n",
      "  0 H 1s       0.54993   1.20096\n",
      "  1 H 1s       0.54993  -1.20096\n"
     ]
    }
   ],
   "source": [
    "tools.dump_mat.dump_mo(mol, hf.mo_coeff)"
   ]
  },
  {
   "cell_type": "code",
   "execution_count": null,
   "id": "5a4445bf",
   "metadata": {},
   "outputs": [],
   "source": [
    "for i in range(hf.mo_coeff.shape[1]):\n",
    "    tools.cubegen.orbital(mol, f\"orbitale_{i+1:02d}.cube\", hf.mo_coeff[:,i])"
   ]
  }
 ],
 "metadata": {
  "kernelspec": {
   "display_name": "quantum",
   "language": "python",
   "name": "quantum"
  },
  "language_info": {
   "codemirror_mode": {
    "name": "ipython",
    "version": 3
   },
   "file_extension": ".py",
   "mimetype": "text/x-python",
   "name": "python",
   "nbconvert_exporter": "python",
   "pygments_lexer": "ipython3",
   "version": "3.8.5"
  }
 },
 "nbformat": 4,
 "nbformat_minor": 5
}
