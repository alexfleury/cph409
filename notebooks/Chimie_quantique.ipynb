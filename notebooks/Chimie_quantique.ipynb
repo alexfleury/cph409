{
 "cells": [
  {
   "cell_type": "markdown",
   "id": "74eab304",
   "metadata": {},
   "source": [
    "[![Open In Colab](https://colab.research.google.com/assets/colab-badge.svg)](https://colab.research.google.com/github/alexfleury/cph409/blob/main/notebooks/Chimie_quantique.ipynb)"
   ]
  },
  {
   "cell_type": "markdown",
   "id": "11c11167",
   "metadata": {},
   "source": [
    "# Résolution numérique de l'équation de Schrödinger pour des molécules\n",
    "\n",
    "Nous avons vu dans le cours différents scénarios où l'équation de Schrödinger a été résolu pour obtenu les fonctions et valeurs propres.\n",
    "\n",
    "$$\n",
    "\\hat{H} \\Psi = E \\Psi\n",
    "$$\n",
    "\n",
    "Comme il est coutume en chimie quantique, nous utiliserons l'approximation de Born–Oppenheimer ($\\Psi = \\psi_N \\psi_e$) et considèrerons seulement la partie électronique du système. L'Hamiltonien associé aux électrons est donnée par\n",
    "\n",
    "$$\n",
    "\\hat{H}_e = -\\frac{\\hbar^2}{2 m_e} \\sum_i \\nabla_i^2 -\\frac{e^2}{4 \\pi \\epsilon_0} \\sum_i \\sum_A \\frac{Z_A}{r_{iA}} + \\frac{e^2}{4 \\pi \\epsilon_0} \\sum_i \\sum_{j>i} \\frac{1}{r_{ij}}\n",
    "$$\n",
    "\n",
    "où le premier, deuxième et troisième termes font respectivement référence aux énergies cinétiques des électrons, l'attraction électron-noyau et la répulsion électron-électron. Pour de petits systèmes à un électron ($\\text{H}_2^+$, $\\text{HeH}^{2+}$, ...), il est possible d'obtenir les solutions analytiques des fonctions propres et des valeurs propres de l'équation de Schrödinger. La fonction d'onde peut alors être connue pour ces petits systèmes. Pour des systèmes compliqués (deux électrons ou plus!), une approximation de leur fonction d'onde peut être calculé numériquement à l'aide d'approximations. La formulation de ces approximations définit la méthode de calcul. Dans les prochains exemples, nous utiliserons\n",
    "- Méthode Hartree-Fock (HF)\n",
    "- Théorie de la fonctionnelle de la densité (DFT)\n",
    "\n",
    "Ces méthodes sont implémentées dans plusieurs codes et logiciels tels que [Gaussian](https://gaussian.com/), [ORCA](https://orcaforum.kofo.mpg.de/app.php/portal), [Quantum Espresso](https://www.quantum-espresso.org/), [VASP](https://www.vasp.at/) et bien d'autres. Dans ce notebook, nous utiliserons [PySCF](https://pyscf.org/), qui a l'avantage d'être gratuit, open-source et facile d'utilisation.\n",
    "\n",
    "## Installation de PySCF\n",
    "\n",
    "La première étape est d'installer les fonctions nécessaires à nos calculs. L'utilisation de PySCF s'avère utile pour traiter des molécules au niveau de la chimie quantique. La cellule suivante installera PySCF si ce dernier n'est pas déjà installé dans votre environement."
   ]
  },
  {
   "cell_type": "code",
   "execution_count": 5,
   "id": "4b856b56",
   "metadata": {},
   "outputs": [],
   "source": [
    "try:\n",
    "    import pyscf\n",
    "except ImportError:\n",
    "    !pip install pyscf"
   ]
  },
  {
   "cell_type": "markdown",
   "id": "45c7f1e3",
   "metadata": {},
   "source": [
    "## Importation des fonctions\n",
    "\n",
    "Ce ne sont pas toutes les fonctions qui seront pertinentes pour ce travail pratique. Du module `pyscf`, nous importons\n",
    "* `gto`: Pour définir une molécule sur un ensemble de base gaussien (*Gaussian Type Orbitals*);\n",
    "* `scf`: *Self-consistent field* pour résoudre l'équation de Schrödinger avec la méthode Hartree-Fock;\n",
    "* `tools`: Divers outils, nous l'utiliserons pour créer des fichiers `.cube` pour visualiser des orbitales moléculaires."
   ]
  },
  {
   "cell_type": "code",
   "execution_count": 6,
   "id": "a2204a1a",
   "metadata": {},
   "outputs": [],
   "source": [
    "from pyscf import gto, scf, tools"
   ]
  },
  {
   "cell_type": "markdown",
   "id": "c8979cd9",
   "metadata": {},
   "source": [
    "## Définition de la molécule\n",
    "\n",
    "L'étape suivante est de définir la molécule. La variable `xyz` contient les coordonnées (x, y et z) de chaque atome. Nous créons ensuite une molécule avec la fonction `gto.Mole`, qui accepte les coordonnées des atomes, la charge totale, le spin (différence entre le nombre d'électrons alpha et beta) et l'ensemble de base. La commande `mol.build` construit les quantités nécessaires pour les calculs subséquents.\n",
    "\n",
    "La cellule suivante contruit un objet python pour la molécule du dihydrogène neutre, singulet et avec un ensemble de base minimal de type Slater STO-3G."
   ]
  },
  {
   "cell_type": "code",
   "execution_count": 16,
   "id": "0164b709",
   "metadata": {},
   "outputs": [
    {
     "name": "stdout",
     "output_type": "stream",
     "text": [
      "System: uname_result(system='Linux', node='archCornet', release='5.17.9-arch1-1', version='#1 SMP PREEMPT Wed, 18 May 2022 17:30:11 +0000', machine='x86_64', processor='')  Threads 4\n",
      "Python 3.8.5 (default, Mar  2 2022, 17:20:03) \n",
      "[GCC 11.2.0]\n",
      "numpy 1.22.3  scipy 1.8.0\n",
      "Date: Sat Jun  4 23:20:21 2022\n",
      "PySCF version 2.0.1\n",
      "PySCF path  /home/alexandre/VirtualEnvs/quantum/lib/python3.8/site-packages/pyscf\n",
      "\n",
      "[CONFIG] conf_file None\n",
      "[INPUT] verbose = 4\n",
      "[INPUT] num. atoms = 2\n",
      "[INPUT] num. electrons = 10\n",
      "[INPUT] charge = 0\n",
      "[INPUT] spin (= nelec alpha-beta = 2S) = 0\n",
      "[INPUT] symmetry False subgroup None\n",
      "[INPUT] Mole.unit = angstrom\n",
      "[INPUT]  1 H      0.000000000000   0.000000000000   0.000000000000 AA    0.000000000000   0.000000000000   0.000000000000 Bohr\n",
      "[INPUT]  2 F      0.000000000000   0.000000000000   0.950000000000 AA    0.000000000000   0.000000000000   1.795239818337 Bohr\n",
      "\n",
      "nuclear repulsion = 5.01325778766316\n",
      "number of shells = 4\n",
      "number of NR pGTOs = 18\n",
      "number of NR cGTOs = 6\n",
      "basis = STO-3G\n",
      "ecp = {}\n",
      "CPU time:         3.84\n"
     ]
    },
    {
     "data": {
      "text/plain": [
       "<pyscf.gto.mole.Mole at 0x7fc37679e610>"
      ]
     },
     "execution_count": 16,
     "metadata": {},
     "output_type": "execute_result"
    }
   ],
   "source": [
    "xyz = \"\"\"\n",
    "H  0.000000    0.000000    0.000000\n",
    "F  0.000000    0.000000    0.950000\n",
    "\"\"\"\n",
    "\n",
    "mol = gto.Mole(\n",
    "    atom = xyz,\n",
    "    charge = 0,\n",
    "    spin = 0,\n",
    "    basis = \"STO-3G\",\n",
    "    verbose=4\n",
    ")\n",
    "mol.build()"
   ]
  },
  {
   "cell_type": "markdown",
   "id": "783a1851",
   "metadata": {},
   "source": [
    "Notons que nous utilisons ici un ensemble de base dit *minimal* ou de simple zeta. Ceci veut dire que l'ensemble de bases ne représentent seulement que le minimum des orbitals définis pour un élément. Dans le cas de HF,\n",
    "\n",
    "| Atome | Orbital(s)        | Nombre |\n",
    "|-------|-------------------|--------|\n",
    "| 1 F   | 1s+2s+2px+2py+2pz | 5      |\n",
    "| 1 H   | 1s                | 1      |\n",
    "\n",
    "Six orbitals atomiques sont alors mélangés pour donner six orbitals moléculaires."
   ]
  },
  {
   "cell_type": "markdown",
   "id": "8aa55309",
   "metadata": {},
   "source": [
    "## Calcul en Hartree-Fock\n",
    "\n",
    "L'appel au module `scf.RHF` rend accessible la fonction d'onde approximée avec la méthode Hartree-Fock, ou plus précisément la solution *restricted Hartree-Fock*. Le mot *restricted* fait référence à la méthode qui force les électrons à être pairés (2 électrons par orbitale moléculaire). D'autres méthodes peuvent être qualifiées de `unrestricted`, où cette contrainte n'est pas imposée. C'est à la ligne `hf.kernel()` où le calcul se produit et que le résultat est affiché."
   ]
  },
  {
   "cell_type": "code",
   "execution_count": 17,
   "id": "6e6107dc",
   "metadata": {
    "scrolled": true
   },
   "outputs": [
    {
     "name": "stdout",
     "output_type": "stream",
     "text": [
      "\n",
      "\n",
      "******** <class 'pyscf.scf.hf.RHF'> ********\n",
      "method = RHF\n",
      "initial guess = minao\n",
      "damping factor = 0\n",
      "level_shift factor = 0\n",
      "DIIS = <class 'pyscf.scf.diis.CDIIS'>\n",
      "diis_start_cycle = 1\n",
      "diis_space = 8\n",
      "SCF conv_tol = 1e-09\n",
      "SCF conv_tol_grad = None\n",
      "SCF max_cycles = 50\n",
      "direct_scf = True\n",
      "direct_scf_tol = 1e-13\n",
      "chkfile to save SCF result = /home/alexandre/Projects/cph409/notebooks/tmp1c_9dh5y\n",
      "max_memory 4000 MB (current use 122 MB)\n",
      "Set gradient conv threshold to 3.16228e-05\n",
      "init E= -98.3186515639205\n",
      "  HOMO = -0.566940085888614  LUMO = 0.377561408852904\n",
      "cycle= 1 E= -98.5236354509471  delta_E= -0.205  |g|= 0.315  |ddm|= 1.18\n",
      "  HOMO = -0.345520960332502  LUMO = 0.590838773864142\n",
      "cycle= 2 E= -98.572029671899  delta_E= -0.0484  |g|= 0.0401  |ddm|= 0.52\n",
      "  HOMO = -0.461483134006855  LUMO = 0.595586952345562\n",
      "cycle= 3 E= -98.5727990557326  delta_E= -0.000769  |g|= 0.00532  |ddm|= 0.0767\n",
      "  HOMO = -0.463153018821442  LUMO = 0.594947514278995\n",
      "cycle= 4 E= -98.5728082639284  delta_E= -9.21e-06  |g|= 0.000225  |ddm|= 0.00819\n",
      "  HOMO = -0.463246302714365  LUMO = 0.595276775077709\n",
      "cycle= 5 E= -98.572808287564  delta_E= -2.36e-08  |g|= 6.38e-06  |ddm|= 0.000481\n",
      "  HOMO = -0.463243169214127  LUMO = 0.595265347607739\n",
      "cycle= 6 E= -98.5728082875828  delta_E= -1.88e-11  |g|= 3.6e-08  |ddm|= 1.16e-05\n",
      "  HOMO = -0.463243158957823  LUMO = 0.59526538771883\n",
      "Extra cycle  E= -98.5728082875829  delta_E= -5.68e-14  |g|= 4.75e-09  |ddm|= 6.03e-08\n",
      "converged SCF energy = -98.5728082875829\n"
     ]
    },
    {
     "data": {
      "text/plain": [
       "-98.57280828758289"
      ]
     },
     "execution_count": 17,
     "metadata": {},
     "output_type": "execute_result"
    }
   ],
   "source": [
    "hf = scf.RHF(mol)\n",
    "hf.kernel()"
   ]
  },
  {
   "cell_type": "markdown",
   "id": "f0de913e",
   "metadata": {},
   "source": [
    "Le résultat de `-98.572808` est l'énergie de la molécule en hartree (1 hartree vaut 627.5 kcal/mol). L'appel à la fonction `analyze` imprime diverses quantités utiles:\n",
    "* Les orbitals moléculaires (énergie et nombre d'électrons);\n",
    "* Les charges sur chaque atome;\n",
    "* Le moment dipolaire de la molécule."
   ]
  },
  {
   "cell_type": "code",
   "execution_count": 18,
   "id": "80f82a45",
   "metadata": {
    "scrolled": true
   },
   "outputs": [
    {
     "name": "stdout",
     "output_type": "stream",
     "text": [
      "**** SCF Summaries ****\n",
      "Total Energy =                         -98.572808287582887\n",
      "Nuclear Repulsion Energy =               5.013257787663158\n",
      "One-electron Energy =                 -149.439799566636339\n",
      "Two-electron Energy =                   45.853733491390287\n",
      "**** MO energy ****\n",
      "MO #1   energy= -25.9030060865052  occ= 2\n",
      "MO #2   energy= -1.46136620537621  occ= 2\n",
      "MO #3   energy= -0.575307623203942 occ= 2\n",
      "MO #4   energy= -0.463243158957823 occ= 2\n",
      "MO #5   energy= -0.463243158957823 occ= 2\n",
      "MO #6   energy= 0.59526538771883   occ= 0\n",
      " ** Mulliken pop on meta-lowdin orthogonal AOs  **\n",
      " ** Mulliken pop  **\n",
      "pop of  0 H 1s        0.85422\n",
      "pop of  1 F 1s        1.99996\n",
      "pop of  1 F 2s        1.88455\n",
      "pop of  1 F 2px       2.00000\n",
      "pop of  1 F 2py       2.00000\n",
      "pop of  1 F 2pz       1.26126\n",
      " ** Mulliken atomic charges  **\n",
      "charge of  0H =      0.14578\n",
      "charge of  1F =     -0.14578\n",
      "Dipole moment(X, Y, Z, Debye):  0.00000,  0.00000, -1.25709\n"
     ]
    }
   ],
   "source": [
    "hf.analyze();"
   ]
  },
  {
   "cell_type": "markdown",
   "id": "08897a69",
   "metadata": {},
   "source": [
    "## Calcul avec la théorie de la fonctionelle de la densité"
   ]
  },
  {
   "cell_type": "code",
   "execution_count": 19,
   "id": "387467b6",
   "metadata": {},
   "outputs": [
    {
     "name": "stdout",
     "output_type": "stream",
     "text": [
      "\n",
      "\n",
      "******** <class 'pyscf.dft.rks.RKS'> ********\n",
      "method = RKS-RHF\n",
      "initial guess = minao\n",
      "damping factor = 0\n",
      "level_shift factor = 0\n",
      "DIIS = <class 'pyscf.scf.diis.CDIIS'>\n",
      "diis_start_cycle = 1\n",
      "diis_space = 8\n",
      "SCF conv_tol = 1e-09\n",
      "SCF conv_tol_grad = None\n",
      "SCF max_cycles = 50\n",
      "direct_scf = True\n",
      "direct_scf_tol = 1e-13\n",
      "chkfile to save SCF result = /home/alexandre/Projects/cph409/notebooks/tmpa_nui_eg\n",
      "max_memory 4000 MB (current use 129 MB)\n",
      "XC library pyscf.dft.libxc version 5.1.7\n",
      "    S. Lehtola, C. Steigemann, M. J. Oliveira, and M. A. Marques, SoftwareX 7, 1 (2018)\n",
      "XC functionals = b3lyp\n",
      "    P. A. M. Dirac, Math. Proc. Cambridge Philos. Soc. 26, 376 (1930)\n",
      "    F. Bloch, Z. Phys. 57, 545 (1929)\n",
      "    A. D. Becke, Phys. Rev. A 38, 3098 (1988)\n",
      "    C. Lee, W. Yang, and R. G. Parr, Phys. Rev. B 37, 785 (1988)\n",
      "    B. Miehlich, A. Savin, H. Stoll, and H. Preuss, Chem. Phys. Lett. 157, 200 (1989)\n",
      "    S. H. Vosko, L. Wilk, and M. Nusair, Can. J. Phys. 58, 1200 (1980)\n",
      "radial grids: \n",
      "    Treutler-Ahlrichs [JCP 102, 346 (1995); DOI:10.1063/1.469408] (M4) radial grids\n",
      "    \n",
      "becke partition: Becke, JCP 88, 2547 (1988); DOI:10.1063/1.454033\n",
      "pruning grids: <function nwchem_prune at 0x7fc376701670>\n",
      "grids dens level: 3\n",
      "symmetrized grids: False\n",
      "atomic radii adjust function: <function treutler_atomic_radii_adjust at 0x7fc376701550>\n",
      "small_rho_cutoff = 1e-07\n",
      "Set gradient conv threshold to 3.16228e-05\n",
      "tot grids = 24466\n",
      "init E= -98.8215376856271\n",
      "  HOMO = -0.400053426825728  LUMO = 0.235441715231685\n",
      "cycle= 1 E= -98.8369185889236  delta_E= -0.0154  |g|= 0.328  |ddm|= 1.19\n",
      "  HOMO = -0.0552794987749401  LUMO = 0.375341220869506\n",
      "cycle= 2 E= -98.8700739926643  delta_E= -0.0332  |g|= 0.198  |ddm|= 0.886\n",
      "  HOMO = -0.169987736416188  LUMO = 0.346737937963548\n",
      "cycle= 3 E= -98.8861308086743  delta_E= -0.0161  |g|= 0.0011  |ddm|= 0.323\n",
      "  HOMO = -0.171868483625966  LUMO = 0.345503390250932\n",
      "cycle= 4 E= -98.8861313049976  delta_E= -4.96e-07  |g|= 0.000155  |ddm|= 0.00251\n",
      "  HOMO = -0.171964616734369  LUMO = 0.345513054142854\n",
      "cycle= 5 E= -98.8861313150288  delta_E= -1e-08  |g|= 2.23e-06  |ddm|= 0.000273\n",
      "  HOMO = -0.171967104912864  LUMO = 0.345512497163188\n",
      "cycle= 6 E= -98.8861313150308  delta_E= -2e-12  |g|= 2.22e-10  |ddm|= 3.51e-06\n",
      "  HOMO = -0.171967105074105  LUMO = 0.345512497130182\n",
      "Extra cycle  E= -98.8861313150308  delta_E= -1.42e-14  |g|= 1.31e-10  |ddm|= 6.03e-10\n",
      "converged SCF energy = -98.8861313150308\n"
     ]
    },
    {
     "data": {
      "text/plain": [
       "-98.8861313150308"
      ]
     },
     "execution_count": 19,
     "metadata": {},
     "output_type": "execute_result"
    }
   ],
   "source": [
    "dft = mol.KS()\n",
    "dft.xc = \"b3lyp\"\n",
    "dft.kernel()"
   ]
  },
  {
   "cell_type": "code",
   "execution_count": 20,
   "id": "e43fa562",
   "metadata": {},
   "outputs": [
    {
     "name": "stdout",
     "output_type": "stream",
     "text": [
      "**** SCF Summaries ****\n",
      "Total Energy =                         -98.886131315030795\n",
      "Nuclear Repulsion Energy =               5.013257787663158\n",
      "One-electron Energy =                 -149.389853302079871\n",
      "Two-electron Coulomb Energy =           56.427115996779165\n",
      "DFT Exchange-Correlation Energy =      -10.936651797393253\n",
      "**** MO energy ****\n",
      "MO #1   energy= -24.3028100078037  occ= 2\n",
      "MO #2   energy= -1.04882742439006  occ= 2\n",
      "MO #3   energy= -0.359683725651575 occ= 2\n",
      "MO #4   energy= -0.171967105074106 occ= 2\n",
      "MO #5   energy= -0.171967105074105 occ= 2\n",
      "MO #6   energy= 0.345512497130182  occ= 0\n",
      " ** Mulliken pop on meta-lowdin orthogonal AOs  **\n",
      " ** Mulliken pop  **\n",
      "pop of  0 H 1s        0.86454\n",
      "pop of  1 F 1s        1.99995\n",
      "pop of  1 F 2s        1.89188\n",
      "pop of  1 F 2px       2.00000\n",
      "pop of  1 F 2py       2.00000\n",
      "pop of  1 F 2pz       1.24362\n",
      " ** Mulliken atomic charges  **\n",
      "charge of  0H =      0.13546\n",
      "charge of  1F =     -0.13546\n",
      "Dipole moment(X, Y, Z, Debye):  0.00000,  0.00000, -1.16678\n"
     ]
    }
   ],
   "source": [
    "dft.analyze();"
   ]
  },
  {
   "cell_type": "markdown",
   "id": "c9bf2aee",
   "metadata": {},
   "source": [
    "## Analyze/visualisation des orbitales moléculaires\n",
    "\n",
    "blabla orbital HF sont un peu mieux que DFT etc."
   ]
  },
  {
   "cell_type": "code",
   "execution_count": 21,
   "id": "83581130",
   "metadata": {},
   "outputs": [
    {
     "name": "stdout",
     "output_type": "stream",
     "text": [
      "               #0        #1        #2        #3        #4       \n",
      "  0 H 1s      -0.00540   0.15157  -0.53203   0.00000   0.00000\n",
      "  1 F 1s       0.99474  -0.25047  -0.07886   0.00000   0.00000\n",
      "  1 F 2s       0.02231   0.94528   0.41426  -0.00000   0.00000\n",
      "  1 F 2px      0.00000   0.00000   0.00000   1.00000   0.00000\n",
      "  1 F 2py     -0.00000   0.00000  -0.00000   0.00000   1.00000\n",
      "  1 F 2pz     -0.00271  -0.07983   0.69860   0.00000   0.00000\n",
      "               #5       \n",
      "  0 H 1s       1.05921\n",
      "  1 F 1s       0.08118\n",
      "  1 F 2s      -0.52179\n",
      "  1 F 2px     -0.00000\n",
      "  1 F 2py      0.00000\n",
      "  1 F 2pz      0.81758\n"
     ]
    }
   ],
   "source": [
    "tools.dump_mat.dump_mo(mol, hf.mo_coeff)"
   ]
  },
  {
   "cell_type": "code",
   "execution_count": 22,
   "id": "5a4445bf",
   "metadata": {},
   "outputs": [],
   "source": [
    "for i in range(hf.mo_coeff.shape[1]):\n",
    "    tools.cubegen.orbital(mol, f\"orbitale_{i+1:02d}.cube\", hf.mo_coeff[:,i])"
   ]
  }
 ],
 "metadata": {
  "kernelspec": {
   "display_name": "quantum",
   "language": "python",
   "name": "quantum"
  },
  "language_info": {
   "codemirror_mode": {
    "name": "ipython",
    "version": 3
   },
   "file_extension": ".py",
   "mimetype": "text/x-python",
   "name": "python",
   "nbconvert_exporter": "python",
   "pygments_lexer": "ipython3",
   "version": "3.8.5"
  }
 },
 "nbformat": 4,
 "nbformat_minor": 5
}
