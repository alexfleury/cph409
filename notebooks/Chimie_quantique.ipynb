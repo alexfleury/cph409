{
 "cells": [
  {
   "cell_type": "markdown",
   "id": "74eab304",
   "metadata": {},
   "source": [
    "[![Open In Colab](https://colab.research.google.com/assets/colab-badge.svg)](https://colab.research.google.com/github/alexfleury/cph409/blob/main/notebooks/Chimie_quantique.ipynb)"
   ]
  },
  {
   "cell_type": "markdown",
   "id": "11c11167",
   "metadata": {},
   "source": [
    "# Résolution numérique de l'équation de Schrödinger pour des molécules\n",
    "\n",
    "Nous avons vu dans le cours différents scénarios où l'équation de Schrödinger a été résolu pour obtenu les fonctions et valeurs propres.\n",
    "\n",
    "$$\n",
    "\\hat{H} \\Psi = E \\Psi\n",
    "$$\n",
    "\n",
    "Comme il est coutume en chimie quantique, nous utiliserons l'approximation de Born–Oppenheimer ($\\Psi = \\psi_N \\psi_e$) et considèrerons seulement la partie électronique du système. L'Hamiltonien associé aux électrons est donnée par\n",
    "\n",
    "$$\n",
    "\\hat{H}_e = -\\frac{\\hbar^2}{2 m_e} \\sum_i \\nabla_i^2 -\\frac{e^2}{4 \\pi \\epsilon_0} \\sum_i \\sum_A \\frac{Z_A}{r_{iA}} + \\frac{e^2}{4 \\pi \\epsilon_0} \\sum_i \\sum_{j>i} \\frac{1}{r_{ij}}\n",
    "$$\n",
    "\n",
    "où le premier, deuxième et troisième termes font respectivement référence aux énergies cinétiques des électrons, l'attraction électron-noyau et la répulsion électron-électron. Pour de petits systèmes à un électron ($\\text{H}_2^+$, $\\text{HeH}^{2+}$, ...), il est possible d'obtenir les solutions analytiques des fonctions propres et des valeurs propres de l'équation de Schrödinger. La fonction d'onde peut alors être connue pour ces petits systèmes. Pour des systèmes compliqués (deux électrons ou plus!), une approximation de leur fonction d'onde peut être calculé numériquement à l'aide d'approximations. La formulation de ces approximations définit la méthode de calcul. Dans les prochains exemples, nous utiliserons\n",
    "- Méthode Hartree-Fock (HF)\n",
    "- Théorie de la fonctionnelle de la densité (DFT)\n",
    "\n",
    "Ces méthodes sont implémentées dans plusieurs codes et logiciels tels que [Gaussian](https://gaussian.com/), [ORCA](https://orcaforum.kofo.mpg.de/app.php/portal), [Quantum Espresso](https://www.quantum-espresso.org/), [VASP](https://www.vasp.at/) et bien d'autres. Dans ce notebook, nous utiliserons [PySCF](https://pyscf.org/), qui a l'avantage d'être gratuit, open-source et facile d'utilisation.\n",
    "\n",
    "## Installation de PySCF\n",
    "\n",
    "La première étape est d'installer les fonctions nécessaires à nos calculs. L'utilisation de PySCF s'avère utile pour traiter des molécules au niveau de la chimie quantique. La cellule suivante installera PySCF si ce dernier n'est pas déjà installé dans votre environement."
   ]
  },
  {
   "cell_type": "code",
   "execution_count": null,
   "id": "4b856b56",
   "metadata": {},
   "outputs": [],
   "source": [
    "try:\n",
    "    import pyscf\n",
    "except ImportError:\n",
    "    !pip install pyscf"
   ]
  },
  {
   "cell_type": "markdown",
   "id": "45c7f1e3",
   "metadata": {},
   "source": [
    "## Importation des fonctions\n",
    "\n",
    "Ce ne sont pas toutes les fonctions qui seront pertinentes pour ce travail pratique. Du module `pyscf`, nous importons\n",
    "* `gto`: Pour définir une molécule sur un ensemble de base gaussien (*Gaussian Type Orbitals*);\n",
    "* `scf`: *Self-consistent field* pour résoudre l'équation de Schrödinger avec la méthode Hartree-Fock;\n",
    "* `tools`: Divers outils, nous l'utiliserons pour créer des fichiers `.cube` pour visualiser des orbitales moléculaires."
   ]
  },
  {
   "cell_type": "code",
   "execution_count": null,
   "id": "a2204a1a",
   "metadata": {},
   "outputs": [],
   "source": [
    "from pyscf import gto, scf, dft, tools"
   ]
  },
  {
   "cell_type": "markdown",
   "id": "c8979cd9",
   "metadata": {},
   "source": [
    "## Définition de la molécule\n",
    "\n",
    "L'étape suivante est de définir la molécule. La variable `xyz` contient les coordonnées (x, y et z) de chaque atome. Nous créons ensuite une molécule avec la fonction `gto.Mole`, qui accepte les coordonnées des atomes, la charge totale, le spin (différence entre le nombre d'électrons alpha et beta) et l'ensemble de base. La commande `mol.build` construit les quantités nécessaires pour les calculs subséquents.\n",
    "\n",
    "La cellule suivante contruit un objet python pour la molécule du dihydrogène neutre, singulet et avec un ensemble de base minimal de type Slater STO-3G."
   ]
  },
  {
   "cell_type": "code",
   "execution_count": null,
   "id": "0164b709",
   "metadata": {},
   "outputs": [],
   "source": [
    "xyz = \"\"\"\n",
    "H  0.000000    0.000000    0.000000\n",
    "F  0.000000    0.000000    0.950000\n",
    "\"\"\"\n",
    "\n",
    "mol = gto.Mole(\n",
    "    atom = xyz,\n",
    "    charge = 0,\n",
    "    spin = 0,\n",
    "    basis = \"STO-3G\",\n",
    "    verbose=4\n",
    ")\n",
    "mol.build()"
   ]
  },
  {
   "cell_type": "markdown",
   "id": "783a1851",
   "metadata": {},
   "source": [
    "Notons que nous utilisons ici un ensemble de base dit *minimal* ou de simple zeta. Ceci veut dire que l'ensemble de bases ne représentent seulement que le minimum des orbitals définis pour un élément. Dans le cas de HF,\n",
    "\n",
    "| Atome | Orbital(s)        | Nombre |\n",
    "|-------|-------------------|--------|\n",
    "| 1 F   | 1s + 2s + 2px + 2py + 2pz | 5      |\n",
    "| 1 H   | 1s                | 1      |\n",
    "\n",
    "Six orbitals atomiques sont alors mélangés pour donner six orbitals moléculaires."
   ]
  },
  {
   "cell_type": "markdown",
   "id": "8aa55309",
   "metadata": {},
   "source": [
    "## Calcul en Hartree-Fock\n",
    "\n",
    "### Théorie\n",
    "\n",
    "\n",
    "### En pratique\n",
    "L'appel au module `scf.RHF` rend accessible la fonction d'onde approximée avec la méthode Hartree-Fock, ou plus précisément la solution *restricted Hartree-Fock*. Le mot *restricted* fait référence à la méthode qui force les électrons à être pairés (2 électrons par orbitale moléculaire). D'autres méthodes peuvent être qualifiées de `unrestricted`, où cette contrainte n'est pas imposée. C'est à la ligne `hf.kernel()` où le calcul se produit et que le résultat est affiché."
   ]
  },
  {
   "cell_type": "code",
   "execution_count": null,
   "id": "6e6107dc",
   "metadata": {
    "scrolled": true
   },
   "outputs": [],
   "source": [
    "hf = scf.RHF(mol)\n",
    "hf.kernel()"
   ]
  },
  {
   "cell_type": "markdown",
   "id": "f0de913e",
   "metadata": {},
   "source": [
    "Le résultat de `-98.572808` est l'énergie de la molécule en hartree (1 hartree vaut 627.5 kcal/mol). L'appel à la fonction `analyze` imprime diverses quantités utiles:\n",
    "* Les orbitals moléculaires (énergie et nombre d'électrons);\n",
    "* Les charges sur chaque atome;\n",
    "* Le moment dipolaire de la molécule."
   ]
  },
  {
   "cell_type": "code",
   "execution_count": null,
   "id": "80f82a45",
   "metadata": {
    "scrolled": true
   },
   "outputs": [],
   "source": [
    "hf.analyze();"
   ]
  },
  {
   "cell_type": "markdown",
   "id": "08897a69",
   "metadata": {},
   "source": [
    "## Calcul avec la théorie de la fonctionelle de la densité\n",
    "\n",
    "### Théorie\n",
    "\n",
    "### En pratique\n",
    "\n",
    "L'appel au module `dft.KS` met en place les éléments pour obtenir la fonction d'onde approximée avec la [DFT Kohn-Sham](https://doi.org/10.1103/PhysRev.140.A1133) (proposition originale de la DFT en 1965). Tout comme nous l'avons fait dans la section Hartree-Fock, la fonction d'onde est *restricted* (RKS), ce qui impose le pairage des électrons. Le choix de la fonctionelle a été arrêtée à [B3LYP](https://doi.org/10.1063/1.464913), qui est une fonctionelle hybride reconnue pour la qualité des résultats obtennus avec les molécules organiques (contenant principalement des atomes de la deuxième rangée du tableau périodique)."
   ]
  },
  {
   "cell_type": "code",
   "execution_count": null,
   "id": "387467b6",
   "metadata": {},
   "outputs": [],
   "source": [
    "dft = dft.KS(mol)\n",
    "dft.xc = \"b3lyp\"\n",
    "dft.kernel()"
   ]
  },
  {
   "cell_type": "markdown",
   "id": "4bea38b2",
   "metadata": {},
   "source": [
    "Tout comme dans la dernière section, les résultats peuvent être analysés avec la fonction `analyze()`."
   ]
  },
  {
   "cell_type": "code",
   "execution_count": null,
   "id": "e43fa562",
   "metadata": {},
   "outputs": [],
   "source": [
    "# Attention: les indices des orbitales moléculaires commencent à 1.\n",
    "dft.analyze();"
   ]
  },
  {
   "cell_type": "markdown",
   "id": "c9bf2aee",
   "metadata": {},
   "source": [
    "## Analyze/visualisation des orbitales moléculaires\n",
    "\n",
    "blabla orbital HF sont un peu mieux que DFT etc."
   ]
  },
  {
   "cell_type": "code",
   "execution_count": null,
   "id": "83581130",
   "metadata": {},
   "outputs": [],
   "source": [
    "# Attention: les indices des orbitales commencent à 1.\n",
    "tools.dump_mat.dump_mo(mol, hf.mo_coeff)"
   ]
  },
  {
   "cell_type": "code",
   "execution_count": null,
   "id": "5a4445bf",
   "metadata": {},
   "outputs": [],
   "source": [
    "# Utile pour créer des fichiers .cube pour la visualisation d'orbitales molécules en 3D.\n",
    "for i in range(hf.mo_coeff.shape[1]):\n",
    "    tools.cubegen.orbital(mol, f\"orbitale_{i+1:02d}.cube\", hf.mo_coeff[:,i])"
   ]
  }
 ],
 "metadata": {
  "kernelspec": {
   "display_name": "quantum",
   "language": "python",
   "name": "quantum"
  },
  "language_info": {
   "codemirror_mode": {
    "name": "ipython",
    "version": 3
   },
   "file_extension": ".py",
   "mimetype": "text/x-python",
   "name": "python",
   "nbconvert_exporter": "python",
   "pygments_lexer": "ipython3",
   "version": "3.8.5"
  }
 },
 "nbformat": 4,
 "nbformat_minor": 5
}
